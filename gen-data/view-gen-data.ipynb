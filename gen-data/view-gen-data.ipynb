{
 "cells": [
  {
   "cell_type": "code",
   "execution_count": 1,
   "metadata": {},
   "outputs": [
    {
     "data": {
      "text/plain": [
       "PosixPath('/nvme4tb/Projects/Kaggle/PII/gen-ai')"
      ]
     },
     "execution_count": 1,
     "metadata": {},
     "output_type": "execute_result"
    }
   ],
   "source": [
    "import os\n",
    "from pathlib import Path\n",
    "import pandas as pd\n",
    "from gendata import verify_df\n",
    "path_data = Path(os.getenv('GEN_DIR'))\n",
    "path_data"
   ]
  },
  {
   "cell_type": "code",
   "execution_count": 2,
   "metadata": {},
   "outputs": [
    {
     "name": "stdout",
     "output_type": "stream",
     "text": [
      "(2450, 15)\n"
     ]
    }
   ],
   "source": [
    "df = pd.read_csv(path_data / 'generated_df_Mistral-7B-Instruct-v0.2_0_2449.csv')\n",
    "print(df.shape)"
   ]
  },
  {
   "cell_type": "code",
   "execution_count": 4,
   "metadata": {},
   "outputs": [
    {
     "name": "stdout",
     "output_type": "stream",
     "text": [
      "pii-label-specific-data/all_labels_mdd.json: 4,367\n",
      "Num. Labels: 11\n"
     ]
    },
    {
     "data": {
      "text/plain": [
       "labels\n",
       "O                   1512193\n",
       "I-STREET_ADDRESS      13590\n",
       "B-NAME_STUDENT         6207\n",
       "I-NAME_STUDENT         3490\n",
       "B-STREET_ADDRESS       3135\n",
       "I-PHONE_NUM            1682\n",
       "B-EMAIL                1300\n",
       "B-ID_NUM                791\n",
       "B-URL_PERSONAL          670\n",
       "B-PHONE_NUM             664\n",
       "B-USERNAME              656\n",
       "Name: count, dtype: int64"
      ]
     },
     "metadata": {},
     "output_type": "display_data"
    },
    {
     "name": "stdout",
     "output_type": "stream",
     "text": [
      "\n",
      "mdd-pii-detection-removal-from-educational-data/train.json: 4,768\n",
      "Num. Labels: 13\n"
     ]
    },
    {
     "data": {
      "text/plain": [
       "labels\n",
       "O                   3488563\n",
       "B-NAME_STUDENT          972\n",
       "I-NAME_STUDENT          739\n",
       "B-URL_PERSONAL           72\n",
       "B-ID_NUM                 56\n",
       "B-EMAIL                  34\n",
       "I-STREET_ADDRESS         20\n",
       "I-PHONE_NUM              12\n",
       "B-USERNAME                5\n",
       "B-PHONE_NUM               5\n",
       "I-URL_PERSONAL            2\n",
       "B-STREET_ADDRESS          2\n",
       "I-ID_NUM                  2\n",
       "Name: count, dtype: int64"
      ]
     },
     "metadata": {},
     "output_type": "display_data"
    },
    {
     "name": "stdout",
     "output_type": "stream",
     "text": [
      "\n",
      "pii-mixtral8x7b-generated-essays/mpware_mixtral8x7b_v1.1-no-i-username.json: 2,692\n",
      "Num. Labels: 12\n"
     ]
    },
    {
     "data": {
      "text/plain": [
       "labels\n",
       "O                   2086478\n",
       "I-STREET_ADDRESS       6219\n",
       "I-NAME_STUDENT         5866\n",
       "B-NAME_STUDENT         4614\n",
       "I-PHONE_NUM            2530\n",
       "I-ID_NUM               1240\n",
       "B-URL_PERSONAL         1238\n",
       "B-ID_NUM               1033\n",
       "B-EMAIL                 870\n",
       "B-USERNAME              841\n",
       "B-PHONE_NUM             817\n",
       "B-STREET_ADDRESS        799\n",
       "Name: count, dtype: int64"
      ]
     },
     "metadata": {},
     "output_type": "display_data"
    },
    {
     "name": "stdout",
     "output_type": "stream",
     "text": [
      "\n",
      "mdd-gen/llama3_placeholder_2.3K_v0.json: 2,336\n",
      "Num. Labels: 12\n"
     ]
    },
    {
     "data": {
      "text/plain": [
       "labels\n",
       "O                   1200154\n",
       "I-STREET_ADDRESS       5088\n",
       "I-NAME_STUDENT         3910\n",
       "B-NAME_STUDENT         3094\n",
       "I-PHONE_NUM            2059\n",
       "B-URL_PERSONAL          986\n",
       "B-EMAIL                 896\n",
       "B-USERNAME              832\n",
       "B-PHONE_NUM             754\n",
       "B-STREET_ADDRESS        676\n",
       "B-ID_NUM                670\n",
       "I-URL_PERSONAL            2\n",
       "Name: count, dtype: int64"
      ]
     },
     "metadata": {},
     "output_type": "display_data"
    },
    {
     "name": "stdout",
     "output_type": "stream",
     "text": [
      "\n"
     ]
    }
   ],
   "source": [
    "dir_data = Path(os.getenv('DATA_DIR'))\n",
    "paths_data = ['pii-label-specific-data/all_labels_mdd.json',\n",
    "              'mdd-pii-detection-removal-from-educational-data/train.json',\n",
    "            #   'vw-output/moredata_dataset_fixed.json',\n",
    "            #   'vw-output/pii_dataset_fixed.json',\n",
    "            #   'mixtral-original-prompt/Fake_data_1850_218.json',\n",
    "            #   'pii-dd-mistral-generated/mixtral-8x7b-v1.json',\n",
    "              'pii-mixtral8x7b-generated-essays/mpware_mixtral8x7b_v1.1-no-i-username.json',\n",
    "              'mdd-gen/llama3_placeholder_2.3K_v0.json',\n",
    "            #   'pii-detect-gpt3-5-synthetic-data-8k/PII_Detect_GPT3.5_Generated_data_v1.json',\n",
    "            # 'mdd-gen/mdd_Mistral-7B-Instruct-v0.2_0_4999_split.json',\n",
    "            #   'mdd-gen/mdd_Mistral-7B-Instruct-v0.2_0_4999.json',\n",
    "            #   'mdd-gen/mdd_Mistral-7x8B-Instruct-v0.1_3.2K.json',\n",
    "            #   'pii-mixtral8x7b-generated-essays/mpware_mixtral8x7b_v1.1-no-i-username.json',\n",
    "            #   'mdd-gen/MixtralQ5_placeholder_pii_mimic_training_3.6K_v6.json',\n",
    "              # 'mdd-gen/MixtralQ5_placeholder_pii_mimic_training_3.6K_v4.json',\n",
    "              # 'mdd-gen/mistral_placeholder_mimic_2.8K_v0.json',\n",
    "              # 'mdd-gen/MixtralQ5_placeholder_pii_mimic_training_3.6K_v7.json',\n",
    "\n",
    "              # 'mdd-gen/MixtralQ5_placeholder_pii_real_fake_4.1K_v1.json',\n",
    "              # 'mdd-gen/MixtralQ5_placeholder_pii_mimic_training_4.1K_v1.json',\n",
    "              ]\n",
    "for path_data in paths_data:\n",
    "    tmp = pd.read_json(dir_data / path_data)\n",
    "    print(f'{path_data}: {len(tmp):,}')\n",
    "    tmp = tmp.explode([\"tokens\", \"trailing_whitespace\", \"labels\"])\n",
    "    print(f'Num. Labels: {tmp.labels.nunique()}')\n",
    "    display(tmp.labels.value_counts())\n",
    "    print()"
   ]
  }
 ],
 "metadata": {
  "kernelspec": {
   "display_name": ".venv",
   "language": "python",
   "name": "python3"
  },
  "language_info": {
   "codemirror_mode": {
    "name": "ipython",
    "version": 3
   },
   "file_extension": ".py",
   "mimetype": "text/x-python",
   "name": "python",
   "nbconvert_exporter": "python",
   "pygments_lexer": "ipython3",
   "version": "3.11.9"
  }
 },
 "nbformat": 4,
 "nbformat_minor": 2
}
